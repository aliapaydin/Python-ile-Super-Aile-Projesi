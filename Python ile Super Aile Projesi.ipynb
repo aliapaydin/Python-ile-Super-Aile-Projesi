{
 "cells": [
  {
   "cell_type": "markdown",
   "metadata": {},
   "source": [
    "1 - Kullanıcıdan 1-100 arası bir sayı girmesini isteyin. 1 ile girilen sayı arasındaki çift sayıların toplamımı yazıdran kodu yazın. örn: girilen sayı 15. 1-15 arsı çift sayıların toplamı: 56 "
   ]
  },
  {
   "cell_type": "code",
   "execution_count": null,
   "metadata": {},
   "outputs": [],
   "source": [
    "try:\n",
    "    girilen_sayi = int(input(\"1 ile 100 arasında bir sayı girin: \"))\n",
    "    \n",
    "    if 1 <= girilen_sayi <= 100:\n",
    "        toplam = 0\n",
    "        \n",
    "        for sayi in range(2, girilen_sayi + 1, 2):\n",
    "            toplam += sayi\n",
    "        \n",
    "        print(f\"1 ile {girilen_sayi} arasındaki çift sayıların toplamı: {toplam}\")\n",
    "    else:\n",
    "        print(\"Lütfen 1 ile 100 arasında bir sayı girin.\")\n",
    "except ValueError:\n",
    "    print(\"Geçerli bir sayı girmediniz.\")"
   ]
  },
  {
   "cell_type": "markdown",
   "metadata": {},
   "source": [
    "2 - Kullanıcıdan bir sayı alın ve sayıyı tersten yazdırın. örn: 1524 >> 4251"
   ]
  },
  {
   "cell_type": "code",
   "execution_count": null,
   "metadata": {},
   "outputs": [],
   "source": [
    "sayi = int(input(\"Bir sayı girin: \"))\n",
    "\n",
    "ters_sayi = str(sayi)[::-1]\n",
    "\n",
    "ters_sayi = int(ters_sayi)\n",
    "\n",
    "print(\"Sayının tersi:\", ters_sayi)"
   ]
  },
  {
   "cell_type": "markdown",
   "metadata": {},
   "source": [
    "3 - Kullanıcıdan oluşturacağınız bir listenin eleman sayısını girmesini isteyin. Daha sonra listeye bu sayı kadar eleman eklemesini sağlayan kodu yazın. (örn: liste eleman sayısı 4. Kullanıcının belirlediği 4 elemanlı bir liste döndürülmelidir.) "
   ]
  },
  {
   "cell_type": "code",
   "execution_count": null,
   "metadata": {},
   "outputs": [],
   "source": [
    "try:\n",
    "    n = int(input(\"Kaç elemanlı bir liste oluşturmak istersiniz? \"))\n",
    "except ValueError:\n",
    "    print(\"Geçerli bir sayı girmediniz.\")\n",
    "else:\n",
    "\n",
    "    my_list = []\n",
    "\n",
    "    for i in range(n):\n",
    "        deger = input(f\"{i+1}. elemanın adını girin: \")\n",
    "        my_list.append(deger)\n",
    "\n",
    "    print(\"Listeniz hazır:\", my_list)"
   ]
  },
  {
   "cell_type": "markdown",
   "metadata": {},
   "source": [
    "4 - Kullanıcının girdiği sayının asal sayı olup olmadığını bulan kodu yazın."
   ]
  },
  {
   "cell_type": "code",
   "execution_count": null,
   "metadata": {},
   "outputs": [],
   "source": [
    "def asal_sayimi(number):\n",
    "    if number <= 1:\n",
    "        return False\n",
    "    if number <= 3:\n",
    "        return True\n",
    "    if number % 2 == 0 or number % 3 == 0:\n",
    "        return False\n",
    "    i = 5\n",
    "    while i * i <= number:\n",
    "        if number % i == 0 or number % (i + 2) == 0:\n",
    "            return False\n",
    "        i += 6\n",
    "    return True\n",
    "\n",
    "try:\n",
    "    num = int(input(\"Bir sayı girin: \"))\n",
    "    if asal_sayimi(num):\n",
    "        print(f\"{num} bir asal sayıdır.\")\n",
    "    else:\n",
    "        print(f\"{num} bir asal sayı değildir.\")\n",
    "except ValueError:\n",
    "    print(\"Geçerli bir sayı girmediniz.\")\n"
   ]
  },
  {
   "cell_type": "markdown",
   "metadata": {},
   "source": [
    "5 - Anne, baba ve çocuktan oluşan çekirdek ailenin Süper aile olup olmadığını bulan kodu yazın. isimleri kullanıcıdan isteyin. (Çocuğun ismindeki sessiz harflerin hepsi, anne ve babanın isimlerinde var ise bu aile süper ailedir.(Not: anne ve baba isminden en az bir tane olmalı.). örn1: baba adı = \"Halil\", anne adı= \"Merve\", çocuk adı= \"Veli\" >> Süper aile. (\"v\" anneden, \"l\" babadan)\n",
    "örn2: baba adı = \"Murat\", anne adı= \"Songül\", çocuk adı= \"Mert\" >> Süper aile değil. Anneden harf yok."
   ]
  },
  {
   "cell_type": "code",
   "execution_count": null,
   "metadata": {},
   "outputs": [],
   "source": [
    "def has_common_letters(anne, baba, cocuk):\n",
    "    anne = anne.lower()\n",
    "    baba = baba.lower()\n",
    "    cocuk = cocuk.lower()\n",
    "    \n",
    "    for harf in cocuk:\n",
    "        if harf in anne and harf in baba:\n",
    "            return True\n",
    "    return False\n",
    "\n",
    "anne = input(\"Anne ismini girin: \")\n",
    "baba = input(\"Baba ismini girin: \")\n",
    "cocuk = input(\"Çocuk ismini girin: \")\n",
    "\n",
    "if has_common_letters(anne, baba, cocuk):\n",
    "    print(\"Süper aile.\")\n",
    "else:\n",
    "    print(\"Süper aile değil.\")"
   ]
  }
 ],
 "metadata": {
  "kernelspec": {
   "display_name": "base",
   "language": "python",
   "name": "python3"
  },
  "language_info": {
   "codemirror_mode": {
    "name": "ipython",
    "version": 3
   },
   "file_extension": ".py",
   "mimetype": "text/x-python",
   "name": "python",
   "nbconvert_exporter": "python",
   "pygments_lexer": "ipython3",
   "version": "3.10.9"
  }
 },
 "nbformat": 4,
 "nbformat_minor": 2
}
